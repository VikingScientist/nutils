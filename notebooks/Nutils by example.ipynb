{
 "cells": [
  {
   "cell_type": "code",
   "execution_count": 13,
   "metadata": {
    "collapsed": true
   },
   "outputs": [],
   "source": [
    "%matplotlib notebook"
   ]
  },
  {
   "cell_type": "markdown",
   "metadata": {},
   "source": [
    "# Nutils by example\n",
    "\n",
    "### About Nutils\n",
    "Nutils is a python based finite element package. Nutils does not come with a GUI. You have to write a python script yourself. Nutils provides a set of tools help you implement a weak formulation quite easily.\n",
    "\n",
    "Some basic understanding of python is useful. If you are unfamiliar with python you might want to browser through a tutorial.\n",
    "\n",
    "### Einstein notation\n",
    "All mathematical equations in this document are written using the Einstein Notation. All indices of vectors, matrices or higher-dimensional arrays are explicitly listed. The following special cases apply:\n",
    "\n",
    "* Indices following a comma denote derivatives:\n",
    "\n",
    "$$ u_{i,jk} $$\n",
    "\n",
    "is equivalient to \n",
    "\n",
    "$$ \\frac{\\partial^2 u_i}{\\partial x_j \\partial x_k}.$$\n",
    "\n",
    "* Repeated indices in a term are summed:\n",
    "\n",
    "$$ u_{,ii} + v_j w_{,j} $$\n",
    "\n",
    "is equivalent to \n",
    "\n",
    "$$ \\sum_i \\frac{\\partial^2 u_i}{\\partial^2 x_i} + \\sum_j v_j \\frac{\\partial w}{\\partial x_j}$$\n",
    "\n",
    "## Laplace's equation with Neumann BC's\n",
    "\n",
    "Consider the following system ([Laplace's equation](https://en.wikipedia.org/wiki/Laplace%27s_equation) with homogeneous Neumann boundary conditions):\n",
    "\n",
    "$$ \\left\\{ \\begin{array}{ll} - u_{,kk} = 0 & \\text{in } \\Omega \\\\ u_{,k}n_k = 0 & \\text{on } \\partial \\Omega \\end{array}\\right. $$\n",
    "\n",
    "with $n$ the outward normal and domain $\\Omega=[-1/\\sqrt{2}, 1/\\sqrt{2}]^2$. Note that this system is singular.\n",
    "\n",
    "Let $\\varphi : \\Omega \\rightarrow \\mathbb{R}^N$ a basis on domain $\\Omega$. A weak formulation of this system reads:\n",
    "\n",
    "> Find $w_j$ such that for all $i\\in \\{0,1,...,N-1\\}$    $$ \\int_\\Omega \\varphi_{i,k} \\varphi_{j,k} w_j d\\Omega=0$$\n",
    "\n",
    "The solution $u$ is then approximated by $\\varphi_j w_j$, i.e. the dot product of the basis $\\varphi$ with vector $w$.\n",
    "\n",
    "Let $T$ be a structured partition of $8\\times 8$ equally sized elements of $\\Omega$ and $\\varphi$ a linear basis on \n",
    "$T$. The following Nutils script implements the weak formulation and finds a solution:\n",
    "\n"
   ]
  },
  {
   "cell_type": "code",
   "execution_count": 40,
   "metadata": {},
   "outputs": [
    {
     "name": "stdout",
     "output_type": "stream",
     "text": [
      "solve > right hand side is zero\n"
     ]
    }
   ],
   "source": [
    "import numpy\n",
    "from nutils import *\n",
    "\n",
    "# construct topology, geometry and basis\n",
    "verts = numpy.linspace(-0.5**0.5, 0.5**0.5, 9)\n",
    "domain, geom = mesh.rectilinear([verts, verts])\n",
    "\n",
    "# construct integrand\n",
    "ns = function.Namespace()\n",
    "ns.x = geom\n",
    "ns.basis = domain.basis('spline', degree=1)\n",
    "\n",
    "# construct matrix\n",
    "A = domain.integrate(\n",
    "    ns.eval_ij('basis_i,k basis_j,k'),\n",
    "    geometry=geom, ischeme='gauss3')\n",
    "\n",
    "# solve linear system\n",
    "w = A.solve()"
   ]
  },
  {
   "cell_type": "markdown",
   "metadata": {},
   "source": [
    "### Importing nutils\n",
    "\n",
    "In this script the line"
   ]
  },
  {
   "cell_type": "code",
   "execution_count": 41,
   "metadata": {
    "collapsed": true
   },
   "outputs": [],
   "source": [
    "from nutils import *"
   ]
  },
  {
   "cell_type": "markdown",
   "metadata": {},
   "source": [
    "loads the python package `nutils`. This line is mandatory for all nutils scripts. See the [python docs](https://docs.python.org/3/tutorial/modules.html#packages) for more information on importing packages."
   ]
  },
  {
   "cell_type": "markdown",
   "metadata": {},
   "source": [
    "### Topology and geometry\n",
    "With the line"
   ]
  },
  {
   "cell_type": "code",
   "execution_count": 42,
   "metadata": {
    "collapsed": true
   },
   "outputs": [],
   "source": [
    "domain, geom = mesh.rectilinear([verts, verts])"
   ]
  },
  {
   "cell_type": "markdown",
   "metadata": {},
   "source": [
    "we create a structured two-dimensional mesh. The argument `[verts, verts]` of function `mesh.rectilinear` specifies the vertices of the mesh per dimension, i.e. `verts` in the first dimension and also `verts` in the second dimension. `mesh.rectilinear([verts])` would create a one-dimensional mesh and `mesh.rectilinear([verts, verts, verts])` a three-dimensional structured mesh.\n",
    "\n",
    "The variable `verts` contains a list of vertices, e.g. `[0, 0.25, 0.5, 0.75, 1]`. The function numpy.linspace creates a list of equally spaced numbers between two end points, e.g. `numpy.linspace(0, 1, 5)` returns `[0, 0.25, 0.5 0.75, 1]`. The first two arguments describe the two end points, the third argument the number of points. The number of elements corresponding to a list of vertices is always the number of vertices minus one.\n",
    "\n",
    "The function `mesh.rectilinear` returns a topology and a geometry object, in the example respectively stored in variables domain and geom. The \n",
    "\n",
    "topology object contains information about the elements and the connectivity between the elements, but no geometric information. The geometry object is a Nutils function that connects a topological coordinate to a geometric coordinate. To illustrate the difference the following example generates the same one-dimensional topology twice, but with different geometry functions:"
   ]
  },
  {
   "cell_type": "code",
   "execution_count": 43,
   "metadata": {
    "collapsed": true
   },
   "outputs": [],
   "source": [
    "verts1 = [0, 1, 2, 3, 4]\n",
    "domain1, geom1 = mesh.rectilinear([verts1])\n",
    "verts2 = [0, 0.25, 0.5, 0.75, 1]\n",
    "domain2, geom2 = mesh.rectilinear([verts2])"
   ]
  },
  {
   "cell_type": "code",
   "execution_count": 44,
   "metadata": {},
   "outputs": [],
   "source": [
    "basis = domain.basis('spline', degree=1)\n",
    "grad = function.grad(basis, geom)\n",
    "A = domain.integrate(\n",
    "    function.outer(grad,grad),\n",
    "    geometry=geom, ischeme='gauss3')"
   ]
  },
  {
   "cell_type": "markdown",
   "metadata": {},
   "source": [
    "### Basis and namespace\n",
    "with"
   ]
  },
  {
   "cell_type": "code",
   "execution_count": 45,
   "metadata": {
    "collapsed": true
   },
   "outputs": [],
   "source": [
    "ns = function.Namespace()\n",
    "ns.x = geom\n",
    "ns.basis = domain.basis('spline', degree=1)"
   ]
  },
  {
   "cell_type": "markdown",
   "metadata": {},
   "source": [
    "a linear basis is created on topology domain and stored in variable basis. The first argument to `domain.basis` specifies the type of the basis, e.g. `'spline'` for a spline basis or `'discont'` for a basis suitable for discontinuous Galerking FEM. The second argument specifies the degree of the basis.\n",
    "\n",
    "The Nutils function basis, like geom, can be 'evaluated' on the topology, and returns a vector of length $N^2$, where $N$ is the number of basis functions. In the example script there are 91 basis functions, one per vertex if the basis is linear. The function attribute shape returns the shape of a function. For example `ns.basis.shape` returns (91,) and `geom.shape` (2,)."
   ]
  },
  {
   "cell_type": "code",
   "execution_count": 46,
   "metadata": {},
   "outputs": [
    {
     "name": "stdout",
     "output_type": "stream",
     "text": [
      "(81,)\n",
      "(2,)\n"
     ]
    }
   ],
   "source": [
    "print(ns.basis.shape)\n",
    "print(geom.shape)"
   ]
  },
  {
   "cell_type": "markdown",
   "metadata": {},
   "source": [
    "### Numerical integration\n",
    "\n",
    "Every topology object has an `integrate` method that can integrate an integrand (first argument) using a numerical scheme specified by the [keyword argument](https://docs.python.org/3/tutorial/controlflow.html#keyword-arguments) `ischeme` on a certain geometry specified by the keyword argument geometry. The following python code evaluates the integral\n",
    "\n",
    "$$ A_ij = \\int_\\Omega \\varphi_{i,k}\\varphi_{j,k} d\\Omega :$$"
   ]
  },
  {
   "cell_type": "code",
   "execution_count": 47,
   "metadata": {
    "collapsed": true
   },
   "outputs": [],
   "source": [
    "A = domain.integrate(\n",
    "    ns.eval_ij('basis_i,k basis_j,k'),\n",
    "    geometry=geom, ischeme='gauss3')"
   ]
  },
  {
   "cell_type": "markdown",
   "metadata": {},
   "source": [
    "The `integrate` method generates a sparse matrix if the integrand has two dimensions, i.e. two indices. An integrand with only one index will result in a vector.\n",
    "\n",
    "The shape of the sparse matrix A is equal to the shape of the integrand. In this example `A.shape` equals `(basis['i,k'] * basis['j,k']).shape` equals `(91, 91)`."
   ]
  },
  {
   "cell_type": "code",
   "execution_count": 48,
   "metadata": {},
   "outputs": [
    {
     "data": {
      "text/plain": [
       "(81, 81)"
      ]
     },
     "execution_count": 48,
     "metadata": {},
     "output_type": "execute_result"
    }
   ],
   "source": [
    "A.shape"
   ]
  },
  {
   "cell_type": "markdown",
   "metadata": {},
   "source": [
    "### Matrices\n",
    "\n",
    "A sparse matrix has a `solve` method that solves linear problems of the form $A x = b$, where $A$ is the sparse matrix and $b$ is the right hand side. Passing the right hand side as the first argument to solve, e.g. `A.solve(b)` yields the solution $x$. By default a sparse direct solver is used to solve the linear system. If the keyword argument `tol` is supplied, e.g. `A.solve(b, tol=1e-8)` the linear system is solved using GMRES. If the keyword argument `symmetric=True` is supplied, the linear system is solved using CG. Note that it is your responsibility to ensure the matrix is symmetric positive definite. If the keyword argument `precon='spilu'` is supplied the iterative solver is preconditioned with ILU. By omitting the first (positional) argument the right hand side is assumed to be zero.\n",
    "\n",
    "Instead of using Nutils' sparse matrix class, you can extract a [scipy sparse](http://docs.scipy.org/doc/scipy-0.14.0/reference/sparse.html) matrix object by calling the matrix method `toscipy()`:"
   ]
  },
  {
   "cell_type": "code",
   "execution_count": 49,
   "metadata": {},
   "outputs": [
    {
     "data": {
      "text/plain": [
       "scipy.sparse.csr.csr_matrix"
      ]
     },
     "execution_count": 49,
     "metadata": {},
     "output_type": "execute_result"
    }
   ],
   "source": [
    "B = A.toscipy()\n",
    "type(B)"
   ]
  },
  {
   "cell_type": "markdown",
   "metadata": {},
   "source": [
    "## Laplace's equation with Dirichlet BC's\n",
    "\n",
    "We replace the homogeneous Neumann boundary conditions with Dirichlet boundary conditions:\n",
    "\n",
    "\n",
    "$$ \\left\\{ \\begin{array}{ll} - u_{,kk} = 0 & \\text{in } \\Omega \\\\ u = f & \\text{on } \\partial \\Omega \\end{array}\\right. $$\n",
    "\n",
    "with $f$ given by\n",
    "\n",
    "$$ f(x) = sin(x_0) exp(x_1) $$\n",
    "\n",
    "This system is not singular. Note that the solution to this problem is $u=f$. \n",
    "\n",
    "A weak formulation of this system reads\n",
    "\n",
    "> Find $w_j$ such that for all $i\\in \\{0,1,...,N-1\\}$ for which $\\varphi_i$ as *no* support on the boundary $\\partial \\Omega$ \n",
    "> $$ \\int_\\Omega \\varphi_{i,k} \\varphi_{j,k} w_j d\\Omega=0$$ \n",
    "> and such that for all $i\\in \\{0,1,...,N-1\\}$ for which $\\varphi_i$ *has* support on the boundary $\\partial \\Omega$\n",
    "> $$\\int_{\\partial \\Omega}\\varphi_i\\left(\\varphi_j w_j - f\\right) d\\Omega = 0.$$\n",
    "\n",
    "The solution $u$ is again approximated by $\\varphi_jw_j$. Note that the equation above is an $L_2-$ projection of $f$ onto basis $\\varphi_i$ limited to the boudnary $\\partial \\Omega$.\n",
    "\n",
    "Again, let $T$ be a structured partition of $8\\times 8$ equally sized elements of $\\Omega$ and $\\varphi$ a linear basis on $T$. The following Nutils script implements the weak formulation and finds a solution:"
   ]
  },
  {
   "cell_type": "code",
   "execution_count": 50,
   "metadata": {},
   "outputs": [
    {
     "name": "stdout",
     "output_type": "stream",
     "text": [
      "project > solve > solving system using sparse direct solver\n",
      "project > constrained 32/81 dofs, error 2.75e-04/area\n",
      "solve > solving system using sparse direct solver\n"
     ]
    }
   ],
   "source": [
    "import numpy\n",
    "from nutils import *\n",
    "\n",
    "# construct topology, geometry and basis\n",
    "verts = numpy.linspace(-0.5**0.5, 0.5**0.5, 9)\n",
    "domain, geom = mesh.rectilinear([verts, verts])\n",
    "\n",
    "# construct integrand\n",
    "ns = function.Namespace()\n",
    "ns.x = geom\n",
    "ns.basis = domain.basis('spline', degree=1)\n",
    "\n",
    "# construct matrix\n",
    "A = domain.integrate(\n",
    "    ns.eval_ij('basis_i,k basis_j,k'),\n",
    "    geometry=geom, ischeme='gauss3')\n",
    "\n",
    "x0,x1 = geom\n",
    "f = function.sin(x0) * function.exp(x1)\n",
    "\n",
    "# construct dirichlet boundary constraints\n",
    "cons = domain.boundary.project(f, onto=ns.basis, geometry=geom, ischeme='gauss3')\n",
    "\n",
    "# solve linear system\n",
    "w = A.solve(constrain=cons)"
   ]
  },
  {
   "cell_type": "markdown",
   "metadata": {},
   "source": [
    "### Dirichlet constraints\n",
    "\n",
    "We explain the differences with the previous script. We create a function `f` by calling `function.sin` on the first component of the two-dimensional geometry and `function.exp` on the second component:"
   ]
  },
  {
   "cell_type": "code",
   "execution_count": 51,
   "metadata": {
    "collapsed": true
   },
   "outputs": [],
   "source": [
    "x0, x1 = geom\n",
    "f = function.sin(x0) * function.exp(x1)"
   ]
  },
  {
   "cell_type": "markdown",
   "metadata": {},
   "source": [
    "The statement `x0, x1 = geom` unpacks the two components of the function `geom`.\n",
    "\n",
    "The dirichlet constraint is applied in the following two statements:"
   ]
  },
  {
   "cell_type": "code",
   "execution_count": 52,
   "metadata": {},
   "outputs": [
    {
     "name": "stdout",
     "output_type": "stream",
     "text": [
      "project > solve > solving system using sparse direct solver\n",
      "project > constrained 32/81 dofs, error 2.75e-04/area\n",
      "solve > solving system using sparse direct solver\n"
     ]
    }
   ],
   "source": [
    "cons = domain.boundary.project(\n",
    "    f, onto=basis, geometry=geom, ischeme='gauss3')\n",
    "w = A.solve(constrain=cons)"
   ]
  },
  {
   "cell_type": "markdown",
   "metadata": {},
   "source": [
    "actually another topology object, which supports the integrate and project methods. The result vector cons contains values for all basis functions that have support on domain.boundary, otherwise float('nan').\n",
    "\n",
    "The method solve of a Nutils matrix supports an additional keyword argument constrain. If supplied, all values, i.e. those that are not float('nan'), are copied to the solution vector and the remainder is solved.\n",
    "\n",
    "To illustrate what happens, consider the linear system $A_{ij}x_j = b_j$ and let $i_U$ be an index belonging to the unconstrained set and $i_C$ to the constrained set and let $c_{j_C}$ be the vector of constraints. Let $\\tilde{x}$ be the solution to the constrained problem. Then we have $\\tilde{x}_{j_C} = c_{j_C}$ and\n",
    "\n",
    "$$ A_{iUjU} \\tilde{x}_{jU} = b_{iU} - A_{iUjC}c_{j_C}.$$\n",
    "\n",
    "Note that $A_{ij}\\tilde{x}_j \\neq b_j$!\n",
    "\n",
    "### Nutils' log and running from the commandline\n",
    "\n",
    "** Note: ** The following code will not work when running nutils interactively and is intended for command-line implementations of the solver\n",
    "\n",
    "Nutils creates html log files of your simulations. By default the logs are stored in the folder `public_html` in your home directory. The file `log.html` in this directory points to the latest simulation.\n",
    "\n",
    "The following script models the same problem as discussed above, but supports log files:\n",
    "\n"
   ]
  },
  {
   "cell_type": "code",
   "execution_count": null,
   "metadata": {},
   "outputs": [],
   "source": [
    "import numpy\n",
    "from nutils import *\n",
    "\n",
    "def main(nelems=8, degree=1):\n",
    "\n",
    "    # construct topology, geometry and basis\n",
    "    verts = numpy.linspace(-0.5**0.5, 0.5**0.5, nelems+1)\n",
    "    domain, geom = mesh.rectilinear([verts, verts])\n",
    "    ischeme = 'gauss3'\n",
    "\n",
    "    # construct integrand\n",
    "    ns = function.Namespace()\n",
    "    ns.x = geom\n",
    "    ns.basis = domain.basis('spline', degree=1)\n",
    "\n",
    "    # construct matrix\n",
    "    A = domain.integrate(\n",
    "        ns.eval_ij('basis_i,k basis_j,k'),\n",
    "        geometry=geom, ischeme=ischeme)\n",
    "\n",
    "    x0, x1 = geom\n",
    "    f = function.sin(x0) * function.exp(x1)\n",
    "\n",
    "    # construct dirichlet boundary constraints\n",
    "    cons = domain.boundary.project(\n",
    "        f, onto=ns.basis, geometry=geom, ischeme=ischeme)\n",
    "\n",
    "    # solve linear system\n",
    "    w = A.solve(constrain=cons)\n",
    "\n",
    "    # construct solution\n",
    "    u = ns.basis.dot(w)\n",
    "\n",
    "    # plot\n",
    "    points, colors = domain.elem_eval(\n",
    "        [geom, u], ischeme='bezier3', separate=True)\n",
    "    with plot.PyPlot('solution') as plt:\n",
    "        plt.mesh(points, colors)\n",
    "        plt.colorbar()\n",
    "        plt.show()\n",
    "\n",
    "if __name__ == '__main__': # run from commandline\n",
    "    cli.run(main)"
   ]
  },
  {
   "cell_type": "markdown",
   "metadata": {},
   "source": [
    "The solution:\n",
    "\n",
    "![The solution](https://joostvanzwieten.github.io/nutils-by-example/logs/laplace_dirichlet.py/solution000.png)"
   ]
  },
  {
   "cell_type": "markdown",
   "metadata": {},
   "source": [
    "We explain the differences with the previous script. All statements of the previous script excluding the `import` statement are put into the function main:"
   ]
  },
  {
   "cell_type": "code",
   "execution_count": null,
   "metadata": {
    "collapsed": true
   },
   "outputs": [],
   "source": [
    "def main(nelems=8, degree=1):\n",
    "\n",
    "    ... # contents previous script plus plotting\n",
    "\n",
    "if __name__ == '__main__':\n",
    "    util.run(main)"
   ]
  },
  {
   "cell_type": "markdown",
   "metadata": {},
   "source": [
    "You can run this script by typing\n",
    "\n",
    "```\n",
    "python3 laplace_dirichlet.py\n",
    "```\n",
    "in a shell. The arguments `nelms` and `degree` can be specified on the command line, e.g.\n",
    "```\n",
    "python3 laplace_dirichlet.py --nelems=16 --degree=2\n",
    "```\n",
    "runs the script with variables `nelms` set to `16` and `degree` to `2`\n",
    "\n",
    "The statement"
   ]
  },
  {
   "cell_type": "code",
   "execution_count": 69,
   "metadata": {
    "collapsed": true
   },
   "outputs": [],
   "source": [
    "u = ns.basis.dot(w)"
   ]
  },
  {
   "cell_type": "markdown",
   "metadata": {},
   "source": [
    "creates a solution function, the equivalent of $u=\\varphi_iw_i$ where $\\varphi_i$ is the basis.\n",
    "\n",
    "The function `domain.elem_eval` evaluates Nutils functions specified via the first (positional) argument at several points on the topology and the function `plt.mesh` plots the results, where the first argument defines a position and the second a colour value.\n",
    "\n",
    "## Laplace's equation with mixed BC's\n",
    "We partially replace the Dirichlet boundary conditions with Neumann boundary conditions:\n"
   ]
  },
  {
   "cell_type": "code",
   "execution_count": null,
   "metadata": {
    "collapsed": true
   },
   "outputs": [],
   "source": []
  }
 ],
 "metadata": {
  "kernelspec": {
   "display_name": "Python 3",
   "language": "python",
   "name": "python3"
  },
  "language_info": {
   "codemirror_mode": {
    "name": "ipython",
    "version": 3
   },
   "file_extension": ".py",
   "mimetype": "text/x-python",
   "name": "python",
   "nbconvert_exporter": "python",
   "pygments_lexer": "ipython3",
   "version": "3.5.2"
  }
 },
 "nbformat": 4,
 "nbformat_minor": 2
}
